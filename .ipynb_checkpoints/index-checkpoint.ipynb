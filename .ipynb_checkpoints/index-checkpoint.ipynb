{
 "cells": [
  {
   "cell_type": "code",
   "execution_count": 100,
   "metadata": {},
   "outputs": [
    {
     "data": {
      "text/html": [
       "<script>requirejs.config({paths: { 'plotly': ['https://cdn.plot.ly/plotly-latest.min']},});if(!window.Plotly) {{require(['plotly'],function(plotly) {window.Plotly=plotly;});}}</script>"
      ],
      "text/vnd.plotly.v1+html": [
       "<script>requirejs.config({paths: { 'plotly': ['https://cdn.plot.ly/plotly-latest.min']},});if(!window.Plotly) {{require(['plotly'],function(plotly) {window.Plotly=plotly;});}}</script>"
      ]
     },
     "metadata": {},
     "output_type": "display_data"
    }
   ],
   "source": [
    "import os\n",
    "my_path = os.path.dirname(os.path.abspath('__file__'))\n",
    "import numpy as np\n",
    "import pandas as pd\n",
    "import matplotlib.pyplot as plt\n",
    "from plotly.offline import download_plotlyjs, init_notebook_mode, plot, iplot\n",
    "import seaborn as sns\n",
    "import plotly.graph_objs as go\n",
    "init_notebook_mode(connected=True)\n",
    "%matplotlib inline"
   ]
  },
  {
   "cell_type": "code",
   "execution_count": 101,
   "metadata": {},
   "outputs": [
    {
     "data": {
      "text/html": [
       "<div>\n",
       "<style>\n",
       "    .dataframe thead tr:only-child th {\n",
       "        text-align: right;\n",
       "    }\n",
       "\n",
       "    .dataframe thead th {\n",
       "        text-align: left;\n",
       "    }\n",
       "\n",
       "    .dataframe tbody tr th {\n",
       "        vertical-align: top;\n",
       "    }\n",
       "</style>\n",
       "<table border=\"1\" class=\"dataframe\">\n",
       "  <thead>\n",
       "    <tr style=\"text-align: right;\">\n",
       "      <th></th>\n",
       "      <th>Customer_ID</th>\n",
       "      <th>Status_Checking_Acc</th>\n",
       "      <th>Duration_in_Months</th>\n",
       "      <th>Credit_History</th>\n",
       "      <th>Purposre_Credit_Taken</th>\n",
       "      <th>Credit_Amount</th>\n",
       "      <th>Savings_Acc</th>\n",
       "      <th>Years_At_Present_Employment</th>\n",
       "      <th>Inst_Rt_Income</th>\n",
       "      <th>Marital_Status_Gender</th>\n",
       "      <th>...</th>\n",
       "      <th>Age</th>\n",
       "      <th>Other_Inst_Plans</th>\n",
       "      <th>Housing</th>\n",
       "      <th>Num_CC</th>\n",
       "      <th>Job</th>\n",
       "      <th>Dependents</th>\n",
       "      <th>Telephone</th>\n",
       "      <th>Foreign_Worker</th>\n",
       "      <th>Default_On_Payment</th>\n",
       "      <th>Count</th>\n",
       "    </tr>\n",
       "  </thead>\n",
       "  <tbody>\n",
       "    <tr>\n",
       "      <th>0</th>\n",
       "      <td>100001</td>\n",
       "      <td>A11</td>\n",
       "      <td>6</td>\n",
       "      <td>A34</td>\n",
       "      <td>A43</td>\n",
       "      <td>1169</td>\n",
       "      <td>A65</td>\n",
       "      <td>A75</td>\n",
       "      <td>4</td>\n",
       "      <td>A93</td>\n",
       "      <td>...</td>\n",
       "      <td>67</td>\n",
       "      <td>A143</td>\n",
       "      <td>A152</td>\n",
       "      <td>2</td>\n",
       "      <td>A173</td>\n",
       "      <td>1</td>\n",
       "      <td>A192</td>\n",
       "      <td>A201</td>\n",
       "      <td>0</td>\n",
       "      <td>1</td>\n",
       "    </tr>\n",
       "    <tr>\n",
       "      <th>1</th>\n",
       "      <td>100002</td>\n",
       "      <td>A12</td>\n",
       "      <td>48</td>\n",
       "      <td>A32</td>\n",
       "      <td>A43</td>\n",
       "      <td>5951</td>\n",
       "      <td>A61</td>\n",
       "      <td>A73</td>\n",
       "      <td>2</td>\n",
       "      <td>A92</td>\n",
       "      <td>...</td>\n",
       "      <td>22</td>\n",
       "      <td>A143</td>\n",
       "      <td>A152</td>\n",
       "      <td>1</td>\n",
       "      <td>A173</td>\n",
       "      <td>1</td>\n",
       "      <td>A191</td>\n",
       "      <td>A201</td>\n",
       "      <td>0</td>\n",
       "      <td>1</td>\n",
       "    </tr>\n",
       "    <tr>\n",
       "      <th>2</th>\n",
       "      <td>100003</td>\n",
       "      <td>A14</td>\n",
       "      <td>12</td>\n",
       "      <td>A34</td>\n",
       "      <td>A46</td>\n",
       "      <td>2096</td>\n",
       "      <td>A61</td>\n",
       "      <td>A74</td>\n",
       "      <td>2</td>\n",
       "      <td>A93</td>\n",
       "      <td>...</td>\n",
       "      <td>49</td>\n",
       "      <td>A143</td>\n",
       "      <td>A152</td>\n",
       "      <td>1</td>\n",
       "      <td>A172</td>\n",
       "      <td>2</td>\n",
       "      <td>A191</td>\n",
       "      <td>A201</td>\n",
       "      <td>0</td>\n",
       "      <td>1</td>\n",
       "    </tr>\n",
       "    <tr>\n",
       "      <th>3</th>\n",
       "      <td>100004</td>\n",
       "      <td>A11</td>\n",
       "      <td>42</td>\n",
       "      <td>A32</td>\n",
       "      <td>A42</td>\n",
       "      <td>7882</td>\n",
       "      <td>A61</td>\n",
       "      <td>A74</td>\n",
       "      <td>2</td>\n",
       "      <td>A93</td>\n",
       "      <td>...</td>\n",
       "      <td>45</td>\n",
       "      <td>A143</td>\n",
       "      <td>A153</td>\n",
       "      <td>1</td>\n",
       "      <td>A173</td>\n",
       "      <td>2</td>\n",
       "      <td>A191</td>\n",
       "      <td>A201</td>\n",
       "      <td>0</td>\n",
       "      <td>1</td>\n",
       "    </tr>\n",
       "    <tr>\n",
       "      <th>4</th>\n",
       "      <td>100005</td>\n",
       "      <td>A11</td>\n",
       "      <td>24</td>\n",
       "      <td>A33</td>\n",
       "      <td>A40</td>\n",
       "      <td>4870</td>\n",
       "      <td>A61</td>\n",
       "      <td>A73</td>\n",
       "      <td>3</td>\n",
       "      <td>A93</td>\n",
       "      <td>...</td>\n",
       "      <td>53</td>\n",
       "      <td>A143</td>\n",
       "      <td>A153</td>\n",
       "      <td>2</td>\n",
       "      <td>A173</td>\n",
       "      <td>2</td>\n",
       "      <td>A191</td>\n",
       "      <td>A201</td>\n",
       "      <td>1</td>\n",
       "      <td>1</td>\n",
       "    </tr>\n",
       "  </tbody>\n",
       "</table>\n",
       "<p>5 rows × 23 columns</p>\n",
       "</div>"
      ],
      "text/plain": [
       "   Customer_ID Status_Checking_Acc  Duration_in_Months Credit_History  \\\n",
       "0       100001                 A11                   6            A34   \n",
       "1       100002                 A12                  48            A32   \n",
       "2       100003                 A14                  12            A34   \n",
       "3       100004                 A11                  42            A32   \n",
       "4       100005                 A11                  24            A33   \n",
       "\n",
       "  Purposre_Credit_Taken  Credit_Amount Savings_Acc  \\\n",
       "0                   A43           1169         A65   \n",
       "1                   A43           5951         A61   \n",
       "2                   A46           2096         A61   \n",
       "3                   A42           7882         A61   \n",
       "4                   A40           4870         A61   \n",
       "\n",
       "  Years_At_Present_Employment  Inst_Rt_Income Marital_Status_Gender  ...  Age  \\\n",
       "0                         A75               4                   A93  ...   67   \n",
       "1                         A73               2                   A92  ...   22   \n",
       "2                         A74               2                   A93  ...   49   \n",
       "3                         A74               2                   A93  ...   45   \n",
       "4                         A73               3                   A93  ...   53   \n",
       "\n",
       "   Other_Inst_Plans  Housing  Num_CC   Job Dependents  Telephone  \\\n",
       "0               A143    A152       2  A173          1       A192   \n",
       "1               A143    A152       1  A173          1       A191   \n",
       "2               A143    A152       1  A172          2       A191   \n",
       "3               A143    A153       1  A173          2       A191   \n",
       "4               A143    A153       2  A173          2       A191   \n",
       "\n",
       "  Foreign_Worker  Default_On_Payment Count  \n",
       "0           A201                   0     1  \n",
       "1           A201                   0     1  \n",
       "2           A201                   0     1  \n",
       "3           A201                   0     1  \n",
       "4           A201                   1     1  \n",
       "\n",
       "[5 rows x 23 columns]"
      ]
     },
     "execution_count": 101,
     "metadata": {},
     "output_type": "execute_result"
    }
   ],
   "source": [
    "#Import Data\n",
    "\n",
    "df = pd.read_excel('../Defaulter/data/data.xlsx', encoding = \"ISO-8859-1\")\n",
    "df.head()"
   ]
  },
  {
   "cell_type": "code",
   "execution_count": 102,
   "metadata": {},
   "outputs": [
    {
     "name": "stdout",
     "output_type": "stream",
     "text": [
      "<class 'pandas.core.frame.DataFrame'>\n",
      "RangeIndex: 5000 entries, 0 to 4999\n",
      "Data columns (total 23 columns):\n",
      "Customer_ID                    5000 non-null int64\n",
      "Status_Checking_Acc            5000 non-null object\n",
      "Duration_in_Months             5000 non-null int64\n",
      "Credit_History                 5000 non-null object\n",
      "Purposre_Credit_Taken          5000 non-null object\n",
      "Credit_Amount                  5000 non-null int64\n",
      "Savings_Acc                    5000 non-null object\n",
      "Years_At_Present_Employment    5000 non-null object\n",
      "Inst_Rt_Income                 5000 non-null int64\n",
      "Marital_Status_Gender          5000 non-null object\n",
      "Other_Debtors_Guarantors       5000 non-null object\n",
      "Current_Address_Yrs            5000 non-null int64\n",
      "Property                       5000 non-null object\n",
      "Age                            5000 non-null int64\n",
      "Other_Inst_Plans               5000 non-null object\n",
      "Housing                        5000 non-null object\n",
      "Num_CC                         5000 non-null int64\n",
      "Job                            5000 non-null object\n",
      "Dependents                     5000 non-null int64\n",
      "Telephone                      5000 non-null object\n",
      "Foreign_Worker                 5000 non-null object\n",
      "Default_On_Payment             5000 non-null int64\n",
      "Count                          5000 non-null int64\n",
      "dtypes: int64(10), object(13)\n",
      "memory usage: 898.5+ KB\n"
     ]
    }
   ],
   "source": [
    "df.info()"
   ]
  },
  {
   "cell_type": "code",
   "execution_count": 103,
   "metadata": {},
   "outputs": [
    {
     "data": {
      "text/html": [
       "<div>\n",
       "<style>\n",
       "    .dataframe thead tr:only-child th {\n",
       "        text-align: right;\n",
       "    }\n",
       "\n",
       "    .dataframe thead th {\n",
       "        text-align: left;\n",
       "    }\n",
       "\n",
       "    .dataframe tbody tr th {\n",
       "        vertical-align: top;\n",
       "    }\n",
       "</style>\n",
       "<table border=\"1\" class=\"dataframe\">\n",
       "  <thead>\n",
       "    <tr style=\"text-align: right;\">\n",
       "      <th></th>\n",
       "      <th>Customer_ID</th>\n",
       "      <th>Duration_in_Months</th>\n",
       "      <th>Credit_Amount</th>\n",
       "      <th>Inst_Rt_Income</th>\n",
       "      <th>Current_Address_Yrs</th>\n",
       "      <th>Age</th>\n",
       "      <th>Num_CC</th>\n",
       "      <th>Dependents</th>\n",
       "      <th>Default_On_Payment</th>\n",
       "      <th>Count</th>\n",
       "    </tr>\n",
       "  </thead>\n",
       "  <tbody>\n",
       "    <tr>\n",
       "      <th>count</th>\n",
       "      <td>5000.000000</td>\n",
       "      <td>5000.000000</td>\n",
       "      <td>5000.000000</td>\n",
       "      <td>5000.000000</td>\n",
       "      <td>5000.000000</td>\n",
       "      <td>5000.000000</td>\n",
       "      <td>5000.000000</td>\n",
       "      <td>5000.000000</td>\n",
       "      <td>5000.000000</td>\n",
       "      <td>5000.0</td>\n",
       "    </tr>\n",
       "    <tr>\n",
       "      <th>mean</th>\n",
       "      <td>102500.500000</td>\n",
       "      <td>20.903000</td>\n",
       "      <td>3271.258000</td>\n",
       "      <td>2.973000</td>\n",
       "      <td>2.845000</td>\n",
       "      <td>35.546000</td>\n",
       "      <td>1.407000</td>\n",
       "      <td>1.155000</td>\n",
       "      <td>0.299000</td>\n",
       "      <td>1.0</td>\n",
       "    </tr>\n",
       "    <tr>\n",
       "      <th>std</th>\n",
       "      <td>1443.520003</td>\n",
       "      <td>12.053989</td>\n",
       "      <td>2821.607329</td>\n",
       "      <td>1.118267</td>\n",
       "      <td>1.103276</td>\n",
       "      <td>11.370917</td>\n",
       "      <td>0.577423</td>\n",
       "      <td>0.361941</td>\n",
       "      <td>0.457866</td>\n",
       "      <td>0.0</td>\n",
       "    </tr>\n",
       "    <tr>\n",
       "      <th>min</th>\n",
       "      <td>100001.000000</td>\n",
       "      <td>4.000000</td>\n",
       "      <td>250.000000</td>\n",
       "      <td>1.000000</td>\n",
       "      <td>1.000000</td>\n",
       "      <td>19.000000</td>\n",
       "      <td>1.000000</td>\n",
       "      <td>1.000000</td>\n",
       "      <td>0.000000</td>\n",
       "      <td>1.0</td>\n",
       "    </tr>\n",
       "    <tr>\n",
       "      <th>25%</th>\n",
       "      <td>101250.750000</td>\n",
       "      <td>12.000000</td>\n",
       "      <td>1365.500000</td>\n",
       "      <td>2.000000</td>\n",
       "      <td>2.000000</td>\n",
       "      <td>27.000000</td>\n",
       "      <td>1.000000</td>\n",
       "      <td>1.000000</td>\n",
       "      <td>0.000000</td>\n",
       "      <td>1.0</td>\n",
       "    </tr>\n",
       "    <tr>\n",
       "      <th>50%</th>\n",
       "      <td>102500.500000</td>\n",
       "      <td>18.000000</td>\n",
       "      <td>2319.500000</td>\n",
       "      <td>3.000000</td>\n",
       "      <td>3.000000</td>\n",
       "      <td>33.000000</td>\n",
       "      <td>1.000000</td>\n",
       "      <td>1.000000</td>\n",
       "      <td>0.000000</td>\n",
       "      <td>1.0</td>\n",
       "    </tr>\n",
       "    <tr>\n",
       "      <th>75%</th>\n",
       "      <td>103750.250000</td>\n",
       "      <td>24.000000</td>\n",
       "      <td>3972.250000</td>\n",
       "      <td>4.000000</td>\n",
       "      <td>4.000000</td>\n",
       "      <td>42.000000</td>\n",
       "      <td>2.000000</td>\n",
       "      <td>1.000000</td>\n",
       "      <td>1.000000</td>\n",
       "      <td>1.0</td>\n",
       "    </tr>\n",
       "    <tr>\n",
       "      <th>max</th>\n",
       "      <td>105000.000000</td>\n",
       "      <td>72.000000</td>\n",
       "      <td>18424.000000</td>\n",
       "      <td>4.000000</td>\n",
       "      <td>4.000000</td>\n",
       "      <td>75.000000</td>\n",
       "      <td>4.000000</td>\n",
       "      <td>2.000000</td>\n",
       "      <td>1.000000</td>\n",
       "      <td>1.0</td>\n",
       "    </tr>\n",
       "  </tbody>\n",
       "</table>\n",
       "</div>"
      ],
      "text/plain": [
       "         Customer_ID  Duration_in_Months  Credit_Amount  Inst_Rt_Income  \\\n",
       "count    5000.000000         5000.000000    5000.000000     5000.000000   \n",
       "mean   102500.500000           20.903000    3271.258000        2.973000   \n",
       "std      1443.520003           12.053989    2821.607329        1.118267   \n",
       "min    100001.000000            4.000000     250.000000        1.000000   \n",
       "25%    101250.750000           12.000000    1365.500000        2.000000   \n",
       "50%    102500.500000           18.000000    2319.500000        3.000000   \n",
       "75%    103750.250000           24.000000    3972.250000        4.000000   \n",
       "max    105000.000000           72.000000   18424.000000        4.000000   \n",
       "\n",
       "       Current_Address_Yrs          Age       Num_CC   Dependents  \\\n",
       "count          5000.000000  5000.000000  5000.000000  5000.000000   \n",
       "mean              2.845000    35.546000     1.407000     1.155000   \n",
       "std               1.103276    11.370917     0.577423     0.361941   \n",
       "min               1.000000    19.000000     1.000000     1.000000   \n",
       "25%               2.000000    27.000000     1.000000     1.000000   \n",
       "50%               3.000000    33.000000     1.000000     1.000000   \n",
       "75%               4.000000    42.000000     2.000000     1.000000   \n",
       "max               4.000000    75.000000     4.000000     2.000000   \n",
       "\n",
       "       Default_On_Payment   Count  \n",
       "count         5000.000000  5000.0  \n",
       "mean             0.299000     1.0  \n",
       "std              0.457866     0.0  \n",
       "min              0.000000     1.0  \n",
       "25%              0.000000     1.0  \n",
       "50%              0.000000     1.0  \n",
       "75%              1.000000     1.0  \n",
       "max              1.000000     1.0  "
      ]
     },
     "execution_count": 103,
     "metadata": {},
     "output_type": "execute_result"
    }
   ],
   "source": [
    "df.describe()"
   ]
  },
  {
   "cell_type": "code",
   "execution_count": 104,
   "metadata": {
    "collapsed": true
   },
   "outputs": [],
   "source": [
    "#Count attribute is useless so drop that column\n",
    "df.set_index('Customer_ID', inplace=True)\n",
    "df.drop('Count', axis=1, inplace=True)"
   ]
  },
  {
   "cell_type": "code",
   "execution_count": 105,
   "metadata": {},
   "outputs": [
    {
     "data": {
      "text/html": [
       "<div>\n",
       "<style>\n",
       "    .dataframe thead tr:only-child th {\n",
       "        text-align: right;\n",
       "    }\n",
       "\n",
       "    .dataframe thead th {\n",
       "        text-align: left;\n",
       "    }\n",
       "\n",
       "    .dataframe tbody tr th {\n",
       "        vertical-align: top;\n",
       "    }\n",
       "</style>\n",
       "<table border=\"1\" class=\"dataframe\">\n",
       "  <thead>\n",
       "    <tr style=\"text-align: right;\">\n",
       "      <th></th>\n",
       "      <th>Status_Checking_Acc</th>\n",
       "      <th>Duration_in_Months</th>\n",
       "      <th>Credit_History</th>\n",
       "      <th>Purposre_Credit_Taken</th>\n",
       "      <th>Credit_Amount</th>\n",
       "      <th>Savings_Acc</th>\n",
       "      <th>Years_At_Present_Employment</th>\n",
       "      <th>Inst_Rt_Income</th>\n",
       "      <th>Marital_Status_Gender</th>\n",
       "      <th>Other_Debtors_Guarantors</th>\n",
       "      <th>...</th>\n",
       "      <th>Property</th>\n",
       "      <th>Age</th>\n",
       "      <th>Other_Inst_Plans</th>\n",
       "      <th>Housing</th>\n",
       "      <th>Num_CC</th>\n",
       "      <th>Job</th>\n",
       "      <th>Dependents</th>\n",
       "      <th>Telephone</th>\n",
       "      <th>Foreign_Worker</th>\n",
       "      <th>Default_On_Payment</th>\n",
       "    </tr>\n",
       "    <tr>\n",
       "      <th>Customer_ID</th>\n",
       "      <th></th>\n",
       "      <th></th>\n",
       "      <th></th>\n",
       "      <th></th>\n",
       "      <th></th>\n",
       "      <th></th>\n",
       "      <th></th>\n",
       "      <th></th>\n",
       "      <th></th>\n",
       "      <th></th>\n",
       "      <th></th>\n",
       "      <th></th>\n",
       "      <th></th>\n",
       "      <th></th>\n",
       "      <th></th>\n",
       "      <th></th>\n",
       "      <th></th>\n",
       "      <th></th>\n",
       "      <th></th>\n",
       "      <th></th>\n",
       "      <th></th>\n",
       "    </tr>\n",
       "  </thead>\n",
       "  <tbody>\n",
       "    <tr>\n",
       "      <th>100001</th>\n",
       "      <td>A11</td>\n",
       "      <td>6</td>\n",
       "      <td>A34</td>\n",
       "      <td>A43</td>\n",
       "      <td>1169</td>\n",
       "      <td>A65</td>\n",
       "      <td>A75</td>\n",
       "      <td>4</td>\n",
       "      <td>A93</td>\n",
       "      <td>A101</td>\n",
       "      <td>...</td>\n",
       "      <td>A121</td>\n",
       "      <td>67</td>\n",
       "      <td>A143</td>\n",
       "      <td>A152</td>\n",
       "      <td>2</td>\n",
       "      <td>A173</td>\n",
       "      <td>1</td>\n",
       "      <td>A192</td>\n",
       "      <td>A201</td>\n",
       "      <td>0</td>\n",
       "    </tr>\n",
       "    <tr>\n",
       "      <th>100002</th>\n",
       "      <td>A12</td>\n",
       "      <td>48</td>\n",
       "      <td>A32</td>\n",
       "      <td>A43</td>\n",
       "      <td>5951</td>\n",
       "      <td>A61</td>\n",
       "      <td>A73</td>\n",
       "      <td>2</td>\n",
       "      <td>A92</td>\n",
       "      <td>A101</td>\n",
       "      <td>...</td>\n",
       "      <td>A121</td>\n",
       "      <td>22</td>\n",
       "      <td>A143</td>\n",
       "      <td>A152</td>\n",
       "      <td>1</td>\n",
       "      <td>A173</td>\n",
       "      <td>1</td>\n",
       "      <td>A191</td>\n",
       "      <td>A201</td>\n",
       "      <td>0</td>\n",
       "    </tr>\n",
       "    <tr>\n",
       "      <th>100003</th>\n",
       "      <td>A14</td>\n",
       "      <td>12</td>\n",
       "      <td>A34</td>\n",
       "      <td>A46</td>\n",
       "      <td>2096</td>\n",
       "      <td>A61</td>\n",
       "      <td>A74</td>\n",
       "      <td>2</td>\n",
       "      <td>A93</td>\n",
       "      <td>A101</td>\n",
       "      <td>...</td>\n",
       "      <td>A121</td>\n",
       "      <td>49</td>\n",
       "      <td>A143</td>\n",
       "      <td>A152</td>\n",
       "      <td>1</td>\n",
       "      <td>A172</td>\n",
       "      <td>2</td>\n",
       "      <td>A191</td>\n",
       "      <td>A201</td>\n",
       "      <td>0</td>\n",
       "    </tr>\n",
       "    <tr>\n",
       "      <th>100004</th>\n",
       "      <td>A11</td>\n",
       "      <td>42</td>\n",
       "      <td>A32</td>\n",
       "      <td>A42</td>\n",
       "      <td>7882</td>\n",
       "      <td>A61</td>\n",
       "      <td>A74</td>\n",
       "      <td>2</td>\n",
       "      <td>A93</td>\n",
       "      <td>A103</td>\n",
       "      <td>...</td>\n",
       "      <td>A122</td>\n",
       "      <td>45</td>\n",
       "      <td>A143</td>\n",
       "      <td>A153</td>\n",
       "      <td>1</td>\n",
       "      <td>A173</td>\n",
       "      <td>2</td>\n",
       "      <td>A191</td>\n",
       "      <td>A201</td>\n",
       "      <td>0</td>\n",
       "    </tr>\n",
       "    <tr>\n",
       "      <th>100005</th>\n",
       "      <td>A11</td>\n",
       "      <td>24</td>\n",
       "      <td>A33</td>\n",
       "      <td>A40</td>\n",
       "      <td>4870</td>\n",
       "      <td>A61</td>\n",
       "      <td>A73</td>\n",
       "      <td>3</td>\n",
       "      <td>A93</td>\n",
       "      <td>A101</td>\n",
       "      <td>...</td>\n",
       "      <td>A124</td>\n",
       "      <td>53</td>\n",
       "      <td>A143</td>\n",
       "      <td>A153</td>\n",
       "      <td>2</td>\n",
       "      <td>A173</td>\n",
       "      <td>2</td>\n",
       "      <td>A191</td>\n",
       "      <td>A201</td>\n",
       "      <td>1</td>\n",
       "    </tr>\n",
       "  </tbody>\n",
       "</table>\n",
       "<p>5 rows × 21 columns</p>\n",
       "</div>"
      ],
      "text/plain": [
       "            Status_Checking_Acc  Duration_in_Months Credit_History  \\\n",
       "Customer_ID                                                          \n",
       "100001                      A11                   6            A34   \n",
       "100002                      A12                  48            A32   \n",
       "100003                      A14                  12            A34   \n",
       "100004                      A11                  42            A32   \n",
       "100005                      A11                  24            A33   \n",
       "\n",
       "            Purposre_Credit_Taken  Credit_Amount Savings_Acc  \\\n",
       "Customer_ID                                                    \n",
       "100001                        A43           1169         A65   \n",
       "100002                        A43           5951         A61   \n",
       "100003                        A46           2096         A61   \n",
       "100004                        A42           7882         A61   \n",
       "100005                        A40           4870         A61   \n",
       "\n",
       "            Years_At_Present_Employment  Inst_Rt_Income Marital_Status_Gender  \\\n",
       "Customer_ID                                                                     \n",
       "100001                              A75               4                   A93   \n",
       "100002                              A73               2                   A92   \n",
       "100003                              A74               2                   A93   \n",
       "100004                              A74               2                   A93   \n",
       "100005                              A73               3                   A93   \n",
       "\n",
       "            Other_Debtors_Guarantors        ...          Property Age  \\\n",
       "Customer_ID                                 ...                         \n",
       "100001                          A101        ...              A121  67   \n",
       "100002                          A101        ...              A121  22   \n",
       "100003                          A101        ...              A121  49   \n",
       "100004                          A103        ...              A122  45   \n",
       "100005                          A101        ...              A124  53   \n",
       "\n",
       "             Other_Inst_Plans  Housing Num_CC   Job Dependents  Telephone  \\\n",
       "Customer_ID                                                                 \n",
       "100001                    A143    A152      2  A173          1       A192   \n",
       "100002                    A143    A152      1  A173          1       A191   \n",
       "100003                    A143    A152      1  A172          2       A191   \n",
       "100004                    A143    A153      1  A173          2       A191   \n",
       "100005                    A143    A153      2  A173          2       A191   \n",
       "\n",
       "            Foreign_Worker Default_On_Payment  \n",
       "Customer_ID                                    \n",
       "100001                A201                  0  \n",
       "100002                A201                  0  \n",
       "100003                A201                  0  \n",
       "100004                A201                  0  \n",
       "100005                A201                  1  \n",
       "\n",
       "[5 rows x 21 columns]"
      ]
     },
     "execution_count": 105,
     "metadata": {},
     "output_type": "execute_result"
    }
   ],
   "source": [
    "df.head()"
   ]
  },
  {
   "cell_type": "code",
   "execution_count": 106,
   "metadata": {},
   "outputs": [
    {
     "data": {
      "text/plain": [
       "0    3505\n",
       "1    1495\n",
       "Name: Default_On_Payment, dtype: int64"
      ]
     },
     "execution_count": 106,
     "metadata": {},
     "output_type": "execute_result"
    }
   ],
   "source": [
    "#Checking Number of Defaults\n",
    "df['Default_On_Payment'].value_counts()"
   ]
  },
  {
   "cell_type": "markdown",
   "metadata": {},
   "source": [
    "## BivariateAnalysis"
   ]
  },
  {
   "cell_type": "code",
   "execution_count": 107,
   "metadata": {},
   "outputs": [
    {
     "name": "stdout",
     "output_type": "stream",
     "text": [
      "A11    49.270073\n",
      "A12    38.661710\n",
      "A13    22.222222\n",
      "A14    11.675127\n",
      "Name: Status_Checking_Acc, dtype: float64\n"
     ]
    },
    {
     "data": {
      "image/png": "[encoded data removed]",
      "text/plain": [
       "<matplotlib.figure.Figure at 0x7fbd5b7e5c88>"
      ]
     },
     "metadata": {},
     "output_type": "display_data"
    }
   ],
   "source": [
    "#Default Rate based on Status Checking Account\n",
    "\n",
    "fig, ax = plt.subplots(figsize=(10,10))\n",
    "sns.countplot(x=df['Status_Checking_Acc'], hue=df['Default_On_Payment'], data=df,ax=ax)\n",
    "plt.savefig(my_path+'/plots/Status Checking Account Default Rate.png')\n",
    "k = df[df['Default_On_Payment']==1]['Status_Checking_Acc'].value_counts()\n",
    "k_not = df[df['Default_On_Payment']==0]['Status_Checking_Acc'].value_counts()\n",
    "\n",
    "print(k/(k+k_not)*100)"
   ]
  },
  {
   "cell_type": "code",
   "execution_count": 108,
   "metadata": {},
   "outputs": [
    {
     "name": "stdout",
     "output_type": "stream",
     "text": [
      "2.0     29.683698\n",
      "1.0     21.169916\n",
      "3.0     39.860140\n",
      "4.0     50.704225\n",
      "5.0     46.666667\n",
      "6.0    100.000000\n",
      "Name: Duration_in_Years, dtype: float64\n"
     ]
    },
    {
     "data": {
      "image/png": "[encoded data removed]",
      "text/plain": [
       "<matplotlib.figure.Figure at 0x7fbd5babf908>"
      ]
     },
     "metadata": {},
     "output_type": "display_data"
    }
   ],
   "source": [
    "#Default Rate based on Duration in Months\n",
    "\n",
    "fig, ax = plt.subplots(figsize=(10,10))\n",
    "df['Duration_in_Years']=np.ceil(df['Duration_in_Months']/12)\n",
    "sns.countplot(x=df['Duration_in_Years'], hue=df['Default_On_Payment'], data=df,ax=ax)\n",
    "plt.savefig(my_path+'/plots/Duration in Years Default Rate.png')\n",
    "k = df[df['Default_On_Payment']==1]['Duration_in_Years'].value_counts()\n",
    "k_not = df[df['Default_On_Payment']==0]['Duration_in_Years'].value_counts()\n",
    "k_not[6.0]=0\n",
    "print(k/(k+k_not)*100)"
   ]
  },
  {
   "cell_type": "code",
   "execution_count": 109,
   "metadata": {},
   "outputs": [
    {
     "name": "stdout",
     "output_type": "stream",
     "text": [
      "A32    31.698113\n",
      "A34    17.064846\n",
      "A33    31.818182\n",
      "A31    57.142857\n",
      "A30    62.500000\n",
      "Name: Credit_History, dtype: float64\n"
     ]
    },
    {
     "data": {
      "image/png": "[encoded data removed]",
      "text/plain": [
       "<matplotlib.figure.Figure at 0x7fbd5b7ff9b0>"
      ]
     },
     "metadata": {},
     "output_type": "display_data"
    }
   ],
   "source": [
    "#Default Rate based on Credit History\n",
    "\n",
    "fig, ax = plt.subplots(figsize=(10,10))\n",
    "sns.countplot(x=df['Credit_History'], hue=df['Default_On_Payment'], data=df,ax=ax)\n",
    "plt.savefig(my_path+'/plots/Credit History Default Rate.png')\n",
    "k = df[df['Default_On_Payment']==1]['Credit_History'].value_counts()\n",
    "k_not = df[df['Default_On_Payment']==0]['Credit_History'].value_counts()\n",
    "print(k/(k+k_not)*100)"
   ]
  },
  {
   "cell_type": "code",
   "execution_count": 110,
   "metadata": {},
   "outputs": [
    {
     "name": "stdout",
     "output_type": "stream",
     "text": [
      "A40     38.034188\n",
      "A41     16.504854\n",
      "A410    41.666667\n",
      "A42     32.044199\n",
      "A43     21.785714\n",
      "A44     33.333333\n",
      "A45     36.363636\n",
      "A46     44.000000\n",
      "A48     11.111111\n",
      "A49     35.051546\n",
      "Name: Purposre_Credit_Taken, dtype: float64\n"
     ]
    },
    {
     "data": {
      "image/png": "[encoded data removed]",
      "text/plain": [
       "<matplotlib.figure.Figure at 0x7fbd5b8bd198>"
      ]
     },
     "metadata": {},
     "output_type": "display_data"
    }
   ],
   "source": [
    "#Default Rate based on Purpose Credit Taken\n",
    "\n",
    "fig, ax = plt.subplots(figsize=(10,10))\n",
    "sns.countplot(x=df['Purposre_Credit_Taken'], hue=df['Default_On_Payment'], data=df,ax=ax)\n",
    "plt.savefig(my_path+'/plots/Purpose Credit Taken Default Rate.png')\n",
    "k = df[df['Default_On_Payment']==1]['Purposre_Credit_Taken'].value_counts()\n",
    "k_not = df[df['Default_On_Payment']==0]['Purposre_Credit_Taken'].value_counts()\n",
    "print(k/(k+k_not)*100)"
   ]
  },
  {
   "cell_type": "code",
   "execution_count": 111,
   "metadata": {},
   "outputs": [
    {
     "name": "stdout",
     "output_type": "stream",
     "text": [
      "A61    35.820896\n",
      "A62    33.009709\n",
      "A63    17.460317\n",
      "A64    12.500000\n",
      "A65    17.486339\n",
      "Name: Savings_Acc, dtype: float64\n"
     ]
    },
    {
     "data": {
      "image/png": "[encoded data removed]",
      "text/plain": [
       "<matplotlib.figure.Figure at 0x7fbd5bb625c0>"
      ]
     },
     "metadata": {},
     "output_type": "display_data"
    }
   ],
   "source": [
    "#Default Rate based on Savings Account\n",
    "\n",
    "fig, ax = plt.subplots(figsize=(10,10))\n",
    "sns.countplot(x=df['Savings_Acc'], hue=df['Default_On_Payment'], data=df,ax=ax)\n",
    "plt.savefig(my_path+'/plots/Savings Account Default Rate.png')\n",
    "k = df[df['Default_On_Payment']==1]['Savings_Acc'].value_counts()\n",
    "k_not = df[df['Default_On_Payment']==0]['Savings_Acc'].value_counts()\n",
    "print(k/(k+k_not)*100)"
   ]
  },
  {
   "cell_type": "code",
   "execution_count": 112,
   "metadata": {},
   "outputs": [
    {
     "name": "stdout",
     "output_type": "stream",
     "text": [
      "A71    37.096774\n",
      "A72    40.697674\n",
      "A73    30.383481\n",
      "A74    22.413793\n",
      "A75    25.296443\n",
      "Name: Years_At_Present_Employment, dtype: float64\n"
     ]
    },
    {
     "data": {
      "image/png": "[encoded data removed]",
      "text/plain": [
       "<matplotlib.figure.Figure at 0x7fbd5b7dbb38>"
      ]
     },
     "metadata": {},
     "output_type": "display_data"
    }
   ],
   "source": [
    "#Default Rate based Years of Employment Account\n",
    "\n",
    "fig, ax = plt.subplots(figsize=(10,10))\n",
    "sns.countplot(x=df['Years_At_Present_Employment'], hue=df['Default_On_Payment'], data=df,ax=ax)\n",
    "plt.savefig(my_path+'/plots/Years_At_Present_Employment Default Rate.png')\n",
    "k = df[df['Default_On_Payment']==1]['Years_At_Present_Employment'].value_counts()\n",
    "k_not = df[df['Default_On_Payment']==0]['Years_At_Present_Employment'].value_counts()\n",
    "print(k/(k+k_not)*100)"
   ]
  },
  {
   "cell_type": "code",
   "execution_count": 113,
   "metadata": {},
   "outputs": [
    {
     "name": "stdout",
     "output_type": "stream",
     "text": [
      "4    33.403361\n",
      "2    26.406926\n",
      "3    28.662420\n",
      "1    25.000000\n",
      "Name: Inst_Rt_Income, dtype: float64\n"
     ]
    },
    {
     "data": {
      "image/png": "[encoded data removed]",
      "text/plain": [
       "<matplotlib.figure.Figure at 0x7fbd5bb74390>"
      ]
     },
     "metadata": {},
     "output_type": "display_data"
    }
   ],
   "source": [
    "#Default Rate based on Installment Rate\n",
    "\n",
    "fig, ax = plt.subplots(figsize=(10,10))\n",
    "sns.countplot(x=df['Inst_Rt_Income'], hue=df['Default_On_Payment'], data=df,ax=ax)\n",
    "plt.savefig(my_path+'/plots/Installment Rate Default Rate.png')\n",
    "k = df[df['Default_On_Payment']==1]['Inst_Rt_Income'].value_counts()\n",
    "k_not = df[df['Default_On_Payment']==0]['Inst_Rt_Income'].value_counts()\n",
    "print(k/(k+k_not)*100)"
   ]
  },
  {
   "cell_type": "code",
   "execution_count": 114,
   "metadata": {},
   "outputs": [
    {
     "name": "stdout",
     "output_type": "stream",
     "text": [
      "A93    26.642336\n",
      "A92    34.838710\n",
      "A94    27.173913\n",
      "A91    40.000000\n",
      "Name: Marital_Status_Gender, dtype: float64\n"
     ]
    },
    {
     "data": {
      "image/png": "[encoded data removed]",
      "text/plain": [
       "<matplotlib.figure.Figure at 0x7fbd5bc535f8>"
      ]
     },
     "metadata": {},
     "output_type": "display_data"
    }
   ],
   "source": [
    "#Default Rate based on Marital Status Gender\n",
    "\n",
    "fig, ax = plt.subplots(figsize=(10,10))\n",
    "sns.countplot(x=df['Marital_Status_Gender'], hue=df['Default_On_Payment'], data=df,ax=ax)\n",
    "plt.savefig(my_path+'/plots/Marital Status Gender Default Rate.png')\n",
    "k = df[df['Default_On_Payment']==1]['Marital_Status_Gender'].value_counts()\n",
    "k_not = df[df['Default_On_Payment']==0]['Marital_Status_Gender'].value_counts()\n",
    "print(k/(k+k_not)*100)"
   ]
  },
  {
   "cell_type": "code",
   "execution_count": 115,
   "metadata": {},
   "outputs": [
    {
     "name": "stdout",
     "output_type": "stream",
     "text": [
      "A101    29.878721\n",
      "A102    43.902439\n",
      "A103    19.230769\n",
      "Name: Other_Debtors_Guarantors, dtype: float64\n"
     ]
    },
    {
     "data": {
      "image/png": "[encoded data removed]",
      "text/plain": [
       "<matplotlib.figure.Figure at 0x7fbd5b8b72b0>"
      ]
     },
     "metadata": {},
     "output_type": "display_data"
    }
   ],
   "source": [
    "#Default Rate based on Other Debtors Account\n",
    "\n",
    "fig, ax = plt.subplots(figsize=(10,10))\n",
    "sns.countplot(x=df['Other_Debtors_Guarantors'], hue=df['Default_On_Payment'], data=df,ax=ax)\n",
    "plt.savefig(my_path+'/plots/Other_Debtors_Gurantors Default Rate.png')\n",
    "k = df[df['Default_On_Payment']==1]['Other_Debtors_Guarantors'].value_counts()\n",
    "k_not = df[df['Default_On_Payment']==0]['Other_Debtors_Guarantors'].value_counts()\n",
    "print(k/(k+k_not)*100)"
   ]
  },
  {
   "cell_type": "code",
   "execution_count": 116,
   "metadata": {},
   "outputs": [
    {
     "name": "stdout",
     "output_type": "stream",
     "text": [
      "4    30.024213\n",
      "2    31.168831\n",
      "3    28.859060\n",
      "1    27.692308\n",
      "Name: Current_Address_Yrs, dtype: float64\n"
     ]
    },
    {
     "data": {
      "image/png": "[encoded data removed]",
      "text/plain": [
       "<matplotlib.figure.Figure at 0x7fbd6412aa20>"
      ]
     },
     "metadata": {},
     "output_type": "display_data"
    }
   ],
   "source": [
    "#Default Rate based on Current Address Years\n",
    "\n",
    "fig, ax = plt.subplots(figsize=(10,10))\n",
    "sns.countplot(x=df['Current_Address_Yrs'], hue=df['Default_On_Payment'], data=df,ax=ax)\n",
    "plt.savefig(my_path+'/plots/Current Address Default Rate.png')\n",
    "k = df[df['Default_On_Payment']==1]['Current_Address_Yrs'].value_counts()\n",
    "k_not = df[df['Default_On_Payment']==0]['Current_Address_Yrs'].value_counts()\n",
    "print(k/(k+k_not)*100)"
   ]
  },
  {
   "cell_type": "code",
   "execution_count": 117,
   "metadata": {},
   "outputs": [
    {
     "name": "stdout",
     "output_type": "stream",
     "text": [
      "A121    20.921986\n",
      "A122    30.603448\n",
      "A123    30.722892\n",
      "A124    43.506494\n",
      "Name: Property, dtype: float64\n"
     ]
    },
    {
     "data": {
      "image/png": "[encoded data removed]",
      "text/plain": [
       "<matplotlib.figure.Figure at 0x7fbd63e83780>"
      ]
     },
     "metadata": {},
     "output_type": "display_data"
    }
   ],
   "source": [
    "#Default Rate based on Property\n",
    "\n",
    "fig, ax = plt.subplots(figsize=(10,10))\n",
    "sns.countplot(x=df['Property'], hue=df['Default_On_Payment'], data=df,ax=ax)\n",
    "plt.savefig(my_path+'/plots/Property Default Rate.png')\n",
    "k = df[df['Default_On_Payment']==1]['Property'].value_counts()\n",
    "k_not = df[df['Default_On_Payment']==0]['Property'].value_counts()\n",
    "print(k/(k+k_not)*100)"
   ]
  },
  {
   "cell_type": "code",
   "execution_count": 118,
   "metadata": {},
   "outputs": [
    {
     "name": "stdout",
     "output_type": "stream",
     "text": [
      "A143    27.395577\n",
      "A141    41.007194\n",
      "A142    40.425532\n",
      "Name: Other_Inst_Plans , dtype: float64\n"
     ]
    },
    {
     "data": {
      "image/png": "[encoded data removed]",
      "text/plain": [
       "<matplotlib.figure.Figure at 0x7fbd5b7b6a20>"
      ]
     },
     "metadata": {},
     "output_type": "display_data"
    }
   ],
   "source": [
    "#Default Rate based on Other_Inst_plans\n",
    "\n",
    "fig, ax = plt.subplots(figsize=(10,10))\n",
    "sns.countplot(x=df['Other_Inst_Plans '], hue=df['Default_On_Payment'], data=df,ax=ax)\n",
    "plt.savefig(my_path+'/plots/Other_Inst_Plans Default Rate.png')\n",
    "k = df[df['Default_On_Payment']==1]['Other_Inst_Plans '].value_counts()\n",
    "k_not = df[df['Default_On_Payment']==0]['Other_Inst_Plans '].value_counts()\n",
    "print(k/(k+k_not)*100)"
   ]
  },
  {
   "cell_type": "code",
   "execution_count": 119,
   "metadata": {},
   "outputs": [
    {
     "name": "stdout",
     "output_type": "stream",
     "text": [
      "A152    25.946704\n",
      "A151    39.106145\n",
      "A153    40.740741\n",
      "Name: Housing, dtype: float64\n"
     ]
    },
    {
     "data": {
      "image/png": "[encoded data removed]",
      "text/plain": [
       "<matplotlib.figure.Figure at 0x7fbd5b9d7668>"
      ]
     },
     "metadata": {},
     "output_type": "display_data"
    }
   ],
   "source": [
    "#Default Rate based on Housing\n",
    "\n",
    "fig, ax = plt.subplots(figsize=(10,10))\n",
    "sns.countplot(x=df['Housing'], hue=df['Default_On_Payment'], data=df,ax=ax)\n",
    "plt.savefig(my_path+'/plots/Housing Default Rate.png')\n",
    "k = df[df['Default_On_Payment']==1]['Housing'].value_counts()\n",
    "k_not = df[df['Default_On_Payment']==0]['Housing'].value_counts()\n",
    "print(k/(k+k_not)*100)"
   ]
  },
  {
   "cell_type": "code",
   "execution_count": 120,
   "metadata": {},
   "outputs": [
    {
     "name": "stdout",
     "output_type": "stream",
     "text": [
      "1    31.437599\n",
      "2    27.627628\n",
      "3    21.428571\n",
      "4    33.333333\n",
      "Name: Num_CC, dtype: float64\n"
     ]
    },
    {
     "data": {
      "image/png": "[encoded data removed]",
      "text/plain": [
       "<matplotlib.figure.Figure at 0x7fbd63d63d68>"
      ]
     },
     "metadata": {},
     "output_type": "display_data"
    }
   ],
   "source": [
    "#Default Rate based on Existing Credits\n",
    "\n",
    "fig, ax = plt.subplots(figsize=(10,10))\n",
    "sns.countplot(x=df['Num_CC'], hue=df['Default_On_Payment'], data=df,ax=ax)\n",
    "plt.savefig(my_path+'/plots/Exisint Credits DR.png')\n",
    "k = df[df['Default_On_Payment']==1]['Num_CC'].value_counts()\n",
    "k_not = df[df['Default_On_Payment']==0]['Num_CC'].value_counts()\n",
    "print(k/(k+k_not)*100)"
   ]
  },
  {
   "cell_type": "code",
   "execution_count": 121,
   "metadata": {},
   "outputs": [
    {
     "name": "stdout",
     "output_type": "stream",
     "text": [
      "A173    29.365079\n",
      "A172    28.000000\n",
      "A174    34.459459\n",
      "A171    31.818182\n",
      "Name: Job, dtype: float64\n"
     ]
    },
    {
     "data": {
      "image/png": "[encoded data removed]",
      "text/plain": [
       "<matplotlib.figure.Figure at 0x7fbd5b7dca90>"
      ]
     },
     "metadata": {},
     "output_type": "display_data"
    }
   ],
   "source": [
    "#Default Rate based on Job\n",
    "\n",
    "fig, ax = plt.subplots(figsize=(10,10))\n",
    "sns.countplot(x=df['Job'], hue=df['Default_On_Payment'], data=df,ax=ax)\n",
    "plt.savefig(my_path+'/plots/job Default Rate.png')\n",
    "k = df[df['Default_On_Payment']==1]['Job'].value_counts()\n",
    "k_not = df[df['Default_On_Payment']==0]['Job'].value_counts()\n",
    "print(k/(k+k_not)*100)"
   ]
  },
  {
   "cell_type": "code",
   "execution_count": 122,
   "metadata": {},
   "outputs": [
    {
     "name": "stdout",
     "output_type": "stream",
     "text": [
      "1    29.940828\n",
      "2    29.677419\n",
      "Name: Dependents, dtype: float64\n"
     ]
    },
    {
     "data": {
      "image/png": "[encoded data removed]",
      "text/plain": [
       "<matplotlib.figure.Figure at 0x7fbd5b7dc198>"
      ]
     },
     "metadata": {},
     "output_type": "display_data"
    }
   ],
   "source": [
    "#Default Rate based on Dependents\n",
    "\n",
    "fig, ax = plt.subplots(figsize=(10,10))\n",
    "sns.countplot(x=df['Dependents'], hue=df['Default_On_Payment'], data=df,ax=ax)\n",
    "plt.savefig(my_path+'/plots/Dependents Default Rate.png')\n",
    "k = df[df['Default_On_Payment']==1]['Dependents'].value_counts()\n",
    "k_not = df[df['Default_On_Payment']==0]['Dependents'].value_counts()\n",
    "print(k/(k+k_not)*100)"
   ]
  },
  {
   "cell_type": "code",
   "execution_count": 123,
   "metadata": {},
   "outputs": [
    {
     "name": "stdout",
     "output_type": "stream",
     "text": [
      "A191    31.208054\n",
      "A192    27.970297\n",
      "Name: Telephone, dtype: float64\n"
     ]
    },
    {
     "data": {
      "image/png": "[encoded data removed]",
      "text/plain": [
       "<matplotlib.figure.Figure at 0x7fbd63ead1d0>"
      ]
     },
     "metadata": {},
     "output_type": "display_data"
    }
   ],
   "source": [
    "#Default Rate based on Telephones\n",
    "\n",
    "fig, ax = plt.subplots(figsize=(10,10))\n",
    "sns.countplot(x=df['Telephone'], hue=df['Default_On_Payment'], data=df,ax=ax)\n",
    "plt.savefig(my_path+'/plots/Telephones Default Rate.png')\n",
    "k = df[df['Default_On_Payment']==1]['Telephone'].value_counts()\n",
    "k_not = df[df['Default_On_Payment']==0]['Telephone'].value_counts()\n",
    "print(k/(k+k_not)*100)"
   ]
  },
  {
   "cell_type": "code",
   "execution_count": 124,
   "metadata": {},
   "outputs": [
    {
     "name": "stdout",
     "output_type": "stream",
     "text": [
      "A201    30.633437\n",
      "A202    10.810811\n",
      "Name: Foreign_Worker, dtype: float64\n"
     ]
    },
    {
     "data": {
      "image/png": "[encoded data removed]",
      "text/plain": [
       "<matplotlib.figure.Figure at 0x7fbd5bc534e0>"
      ]
     },
     "metadata": {},
     "output_type": "display_data"
    }
   ],
   "source": [
    "#Default Rate based on Telephones\n",
    "\n",
    "fig, ax = plt.subplots(figsize=(10,10))\n",
    "sns.countplot(x=df['Foreign_Worker'], hue=df['Default_On_Payment'], data=df,ax=ax)\n",
    "plt.savefig(my_path+'/plots/ForeignWorker Default Rate.png')\n",
    "k = df[df['Default_On_Payment']==1]['Foreign_Worker'].value_counts()\n",
    "k_not = df[df['Default_On_Payment']==0]['Foreign_Worker'].value_counts()\n",
    "print(k/(k+k_not)*100)"
   ]
  },
  {
   "cell_type": "code",
   "execution_count": 125,
   "metadata": {},
   "outputs": [],
   "source": [
    "df1 = df.copy()\n",
    "df1 = df1.drop(['Foreign_Worker','Duration_in_Months'],axis=1)\n",
    "df = df.drop(['Foreign_Worker','Duration_in_Years'], axis=1)"
   ]
  },
  {
   "cell_type": "code",
   "execution_count": 126,
   "metadata": {},
   "outputs": [],
   "source": [
    "df_new = pd.get_dummies(df)"
   ]
  },
  {
   "cell_type": "code",
   "execution_count": 127,
   "metadata": {},
   "outputs": [
    {
     "data": {
      "text/plain": [
       "Index(['Duration_in_Months', 'Credit_Amount', 'Inst_Rt_Income',\n",
       "       'Current_Address_Yrs', 'Age', 'Num_CC', 'Dependents',\n",
       "       'Default_On_Payment', 'Status_Checking_Acc_A11',\n",
       "       'Status_Checking_Acc_A12', 'Status_Checking_Acc_A13',\n",
       "       'Status_Checking_Acc_A14', 'Credit_History_A30', 'Credit_History_A31',\n",
       "       'Credit_History_A32', 'Credit_History_A33', 'Credit_History_A34',\n",
       "       'Purposre_Credit_Taken_A40', 'Purposre_Credit_Taken_A41',\n",
       "       'Purposre_Credit_Taken_A410', 'Purposre_Credit_Taken_A42',\n",
       "       'Purposre_Credit_Taken_A43', 'Purposre_Credit_Taken_A44',\n",
       "       'Purposre_Credit_Taken_A45', 'Purposre_Credit_Taken_A46',\n",
       "       'Purposre_Credit_Taken_A48', 'Purposre_Credit_Taken_A49',\n",
       "       'Savings_Acc_A61', 'Savings_Acc_A62', 'Savings_Acc_A63',\n",
       "       'Savings_Acc_A64', 'Savings_Acc_A65', 'Years_At_Present_Employment_A71',\n",
       "       'Years_At_Present_Employment_A72', 'Years_At_Present_Employment_A73',\n",
       "       'Years_At_Present_Employment_A74', 'Years_At_Present_Employment_A75',\n",
       "       'Marital_Status_Gender_A91', 'Marital_Status_Gender_A92',\n",
       "       'Marital_Status_Gender_A93', 'Marital_Status_Gender_A94',\n",
       "       'Other_Debtors_Guarantors_A101', 'Other_Debtors_Guarantors_A102',\n",
       "       'Other_Debtors_Guarantors_A103', 'Property_A121', 'Property_A122',\n",
       "       'Property_A123', 'Property_A124', 'Other_Inst_Plans _A141',\n",
       "       'Other_Inst_Plans _A142', 'Other_Inst_Plans _A143', 'Housing_A151',\n",
       "       'Housing_A152', 'Housing_A153', 'Job_A171', 'Job_A172', 'Job_A173',\n",
       "       'Job_A174', 'Telephone_A191', 'Telephone_A192'],\n",
       "      dtype='object')"
      ]
     },
     "execution_count": 127,
     "metadata": {},
     "output_type": "execute_result"
    }
   ],
   "source": [
    "df_new.columns"
   ]
  },
  {
   "cell_type": "code",
   "execution_count": 129,
   "metadata": {},
   "outputs": [],
   "source": [
    "X = df_new.drop(['Default_On_Payment'], axis=1)\n",
    "y = df_new['Default_On_Payment']"
   ]
  },
  {
   "cell_type": "code",
   "execution_count": 131,
   "metadata": {},
   "outputs": [],
   "source": [
    "from sklearn.cross_validation import train_test_split\n",
    "X_train, X_test, y_train, y_test = train_test_split(X, y, test_size=0.33, random_state=42)"
   ]
  },
  {
   "cell_type": "code",
   "execution_count": 142,
   "metadata": {
    "collapsed": true
   },
   "outputs": [],
   "source": [
    "#Just checking the result without scaling\n",
    "from sklearn.linear_model import LogisticRegression\n",
    "log_reg = LogisticRegression()"
   ]
  },
  {
   "cell_type": "code",
   "execution_count": 143,
   "metadata": {},
   "outputs": [
    {
     "data": {
      "text/plain": [
       "LogisticRegression(C=1.0, class_weight=None, dual=False, fit_intercept=True,\n",
       "          intercept_scaling=1, max_iter=100, multi_class='ovr', n_jobs=1,\n",
       "          penalty='l2', random_state=None, solver='liblinear', tol=0.0001,\n",
       "          verbose=0, warm_start=False)"
      ]
     },
     "execution_count": 143,
     "metadata": {},
     "output_type": "execute_result"
    }
   ],
   "source": [
    "log_reg.fit(X_train, y_train)"
   ]
  },
  {
   "cell_type": "code",
   "execution_count": 144,
   "metadata": {},
   "outputs": [
    {
     "data": {
      "text/plain": [
       "array([0, 0, 1, ..., 1, 0, 0])"
      ]
     },
     "execution_count": 144,
     "metadata": {},
     "output_type": "execute_result"
    }
   ],
   "source": [
    "y_pred = log_reg.predict(X_test)\n",
    "y_pred"
   ]
  },
  {
   "cell_type": "code",
   "execution_count": 146,
   "metadata": {},
   "outputs": [
    {
     "data": {
      "text/plain": [
       "0.77636363636363637"
      ]
     },
     "execution_count": 146,
     "metadata": {},
     "output_type": "execute_result"
    }
   ],
   "source": [
    "from sklearn.metrics import accuracy_score\n",
    "accuracy_score(y_test, y_pred)"
   ]
  },
  {
   "cell_type": "markdown",
   "metadata": {},
   "source": [
    "# As we see the accuracy is not so good.Let us try to improve it"
   ]
  },
  {
   "cell_type": "code",
   "execution_count": null,
   "metadata": {
    "collapsed": true
   },
   "outputs": [],
   "source": []
  }
 ],
 "metadata": {
  "kernelspec": {
   "display_name": "Python 3",
   "language": "python",
   "name": "python3"
  },
  "language_info": {
   "codemirror_mode": {
    "name": "ipython",
    "version": 3
   },
   "file_extension": ".py",
   "mimetype": "text/x-python",
   "name": "python",
   "nbconvert_exporter": "python",
   "pygments_lexer": "ipython3",
   "version": "3.6.1"
  }
 },
 "nbformat": 4,
 "nbformat_minor": 2
}
